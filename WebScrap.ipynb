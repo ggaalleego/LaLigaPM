{
 "cells": [
  {
   "metadata": {},
   "cell_type": "markdown",
   "source": "FBref Scrapping",
   "id": "142d51338067c175"
  },
  {
   "metadata": {
    "ExecuteTime": {
     "end_time": "2025-06-09T20:14:27.718677Z",
     "start_time": "2025-06-09T20:14:07.862042Z"
    }
   },
   "cell_type": "code",
   "source": [
    "from selenium import webdriver\n",
    "from selenium.webdriver.chrome.service import Service\n",
    "from selenium.webdriver.chrome.options import Options\n",
    "from webdriver_manager.chrome import ChromeDriverManager\n",
    "options = Options()\n",
    "options.add_argument(\"--headless\")\n",
    "options.add_argument(\"--no-sandbox\")\n",
    "options.add_argument(\"--disable-dev-shm-usage\")\n",
    "driver = webdriver.Chrome(service=Service(ChromeDriverManager().install()), options =  options)\n",
    "from bs4 import BeautifulSoup\n",
    "\n",
    "\n",
    "url = 'https://fbref.com/es/comps/12/Estadisticas-de-La-Liga'\n",
    "response = driver.get(url)\n",
    "html = driver.page_source\n",
    "soup = BeautifulSoup(html, 'html.parser')\n",
    "\n",
    "# Buscamos la tabla de estadísticas\n",
    "table = soup.find_all('div', id = 'all_results2024-2025121')"
   ],
   "id": "e627e66668ea2b36",
   "outputs": [],
   "execution_count": 2
  },
  {
   "metadata": {
    "ExecuteTime": {
     "end_time": "2025-06-09T20:14:27.759974Z",
     "start_time": "2025-06-09T20:14:27.726440Z"
    }
   },
   "cell_type": "code",
   "source": [
    "columnas = table[0].find_all('th')\n",
    "print(columnas)\n",
    "\n"
   ],
   "id": "8ba70316d2a717fd",
   "outputs": [
    {
     "name": "stdout",
     "output_type": "stream",
     "text": [
      "[<th aria-label=\"Rango\" class=\"poptip sort_default_asc center\" data-stat=\"rank\" data-tip=\"&lt;strong&gt;Rango&lt;/strong&gt;&lt;br&gt;Posición final del equipo en la competencia&lt;br&gt;Terminan dentro de la liga o competición.&lt;br&gt;Para las competiciones eliminatorias se puede mostrar la ronda final alcanzada.&lt;br&gt;Los colores y flechas representan los ascensos/descensos o clasificación para las copas continentales.&lt;br&gt;El trofeo indica que el equipo ganó la liga ya sea por eliminatorias o por liderar la tabla de clasificación.&lt;br&gt;La estrella indica que está en la primera posición de la tabla de la liga UTILIZANDO otra forma de nombrar al campeón.\" scope=\"col\">RL</th>, <th aria-label=\"Equipo\" class=\"poptip sort_default_asc center\" data-stat=\"team\" scope=\"col\">Equipo</th>, <th aria-label=\"Partidos jugados\" class=\"poptip center\" data-stat=\"games\" data-tip=\"&lt;strong&gt;Partidos jugados&lt;/strong&gt;&lt;br&gt;Partidos jugados por el jugador o el equipo\" scope=\"col\">PJ</th>, <th aria-label=\"Partidos Ganados\" class=\"poptip center\" data-stat=\"wins\" data-tip=\"&lt;strong&gt;Partidos Ganados&lt;/strong&gt;&lt;br&gt;Partidos Ganados\" scope=\"col\">PG</th>, <th aria-label=\"Partidos Empatados\" class=\"poptip center\" data-stat=\"ties\" data-tip=\"&lt;strong&gt;Partidos Empatados&lt;/strong&gt;&lt;br&gt;Partidos Empatados\" scope=\"col\">PE</th>, <th aria-label=\"Partidos Perdidos\" class=\"poptip center\" data-stat=\"losses\" data-tip=\"&lt;strong&gt;Partidos Perdidos&lt;/strong&gt;&lt;br&gt;Partidos Perdidos\" scope=\"col\">PP</th>, <th aria-label=\"Goles a favor\" class=\"poptip center\" data-stat=\"goals_for\" data-tip=\"&lt;strong&gt;Goles a favor&lt;/strong&gt;&lt;br&gt;Goles a favor\" scope=\"col\">GF</th>, <th aria-label=\"Goles en contra\" class=\"poptip center\" data-stat=\"goals_against\" data-tip=\"&lt;strong&gt;Goles en contra&lt;/strong&gt;&lt;br&gt;Goles en contra\" scope=\"col\">GC</th>, <th aria-label=\"Diferencia de goles\" class=\"poptip center\" data-stat=\"goal_diff\" data-tip=\"&lt;strong&gt;Diferencia de goles&lt;/strong&gt;&lt;br&gt;Diferencia de goles\" scope=\"col\">DG</th>, <th aria-label=\"Puntos\" class=\"poptip center\" data-stat=\"points\" data-tip=\"&lt;strong&gt;Puntos&lt;/strong&gt;&lt;br&gt;La mayoría de las ligas están ordenadas por puntos.&lt;br&gt;Tres para una victoria y una para un empate.\" scope=\"col\">Pts</th>, <th aria-label=\"Puntos/Partido\" class=\"poptip center\" data-stat=\"points_avg\" data-tip=\"&lt;strong&gt;Puntos/Partido&lt;/strong&gt;&lt;br&gt;Puntos por partido jugado\" scope=\"col\">Pts/PJ</th>, <th aria-label=\"xG\" class=\"poptip center\" data-filter=\"1\" data-name=\"xG\" data-stat=\"xg_for\" data-tip=\"&lt;strong&gt;Goles esperados&lt;/strong&gt;&lt;br&gt;Los totales de xG incluyen los tiros desde el punto penal, pero no incluyen las tandas de penales (a menos que se indique lo contrario).&lt;br&gt;Ofrecido por Opta.&lt;br&gt;Un subrayado indica que hay un partido que no contiene datos, pero que se actualizará cuando esté disponible.\" scope=\"col\">xG</th>, <th aria-label=\"Goles esperados (xG) permitidos\" class=\"poptip sort_default_asc center\" data-stat=\"xg_against\" data-tip=\"&lt;strong&gt;Goles esperados (xG) permitidos&lt;/strong&gt;&lt;br&gt;&lt;strong&gt;Goles esperados permitidos&lt;/strong&gt;&lt;br&gt;Los totales de xG incluyen los tiros desde el punto penal, pero no incluyen las tandas de penales (a menos que se indique lo contrario).&lt;br&gt;Ofrecido por Opta.&lt;br&gt;Un subrayado indica que hay un partido que no contiene datos, pero que se actualizará cuando esté disponible.\" scope=\"col\">xGA</th>, <th aria-label=\"Goles esperados (xG) diferencia\" class=\"poptip center\" data-filter=\"1\" data-name=\"Goles esperados (xG) diferencia\" data-stat=\"xg_diff\" data-tip=\"&lt;strong&gt;Goles esperados (xG) diferencia&lt;/strong&gt;&lt;br&gt;&lt;strong&gt;Diferencia de goles esperados&lt;/strong&gt;&lt;br&gt;Los totales de xG incluyen los tiros desde el punto penal, pero no incluyen las tandas de penales (a menos que se indique lo contrario).&lt;br&gt;Ofrecido por Opta.&lt;br&gt;Un subrayado indica que hay un partido que no contiene datos, pero que se actualizará cuando esté disponible.\" scope=\"col\">xGD</th>, <th aria-label=\"Goles esperados (xG) diferencia/90\" class=\"poptip hide_non_quals center\" data-stat=\"xg_diff_per90\" data-tip=\"&lt;strong&gt;Goles esperados (xG) diferencia/90&lt;/strong&gt;&lt;br&gt;&lt;strong&gt;Diferencia de goles esperados por 90 minutos&lt;/strong&gt;&lt;br&gt;Los totales de xG incluyen los tiros desde el punto penal, pero no incluyen las tandas de penales (a menos que se indique lo contrario).&lt;br&gt;Ofrecido por Opta.&lt;br&gt;Un subrayado indica que hay un partido que no contiene datos, pero que se actualizará cuando esté disponible.\" scope=\"col\">xGD/90</th>, <th aria-label=\"Asistencia/partido\" class=\"poptip center\" data-stat=\"attendance_per_g\" data-tip=\"&lt;strong&gt;Asistencia/partido&lt;/strong&gt;&lt;br&gt;Asistencia por partido durante esta temporada, solo para partidos como locales\" scope=\"col\">Asistencia</th>, <th aria-label=\"Máximo Goleador del Equipo\" class=\"poptip center\" data-stat=\"top_team_scorers\" data-tip=\"Solo incluye los partidos de liga de esa temporada\" scope=\"col\">Máximo Goleador del Equipo</th>, <th aria-label=\"Portero\" class=\"poptip center\" data-stat=\"top_keeper\" data-tip=\"Portero con más minutos de juego en la liga\" scope=\"col\">Portero</th>, <th aria-label=\"Notas\" class=\"poptip center\" data-stat=\"notes\" scope=\"col\">Notas</th>, <th class=\"right qualifier qualification_indicator1\" csk=\"1\" data-stat=\"rank\" scope=\"row\">1</th>, <th class=\"right qualifier qualification_indicator1\" csk=\"2\" data-stat=\"rank\" scope=\"row\">2</th>, <th class=\"right qualifier qualification_indicator1\" csk=\"3\" data-stat=\"rank\" scope=\"row\">3</th>, <th class=\"right qualifier qualification_indicator1\" csk=\"4\" data-stat=\"rank\" scope=\"row\">4</th>, <th class=\"right qualifier qualification_indicator2\" csk=\"5\" data-stat=\"rank\" scope=\"row\">5</th>, <th class=\"right qualifier qualification_indicator2\" csk=\"6\" data-stat=\"rank\" scope=\"row\">6</th>, <th class=\"right qualifier qualification_indicator3\" csk=\"7\" data-stat=\"rank\" scope=\"row\">7</th>, <th class=\"right\" csk=\"8\" data-stat=\"rank\" scope=\"row\">8</th>, <th class=\"right\" csk=\"9\" data-stat=\"rank\" scope=\"row\">9</th>, <th class=\"right\" csk=\"10\" data-stat=\"rank\" scope=\"row\">10</th>, <th class=\"right\" csk=\"11\" data-stat=\"rank\" scope=\"row\">11</th>, <th class=\"right\" csk=\"12\" data-stat=\"rank\" scope=\"row\">12</th>, <th class=\"right\" csk=\"13\" data-stat=\"rank\" scope=\"row\">13</th>, <th class=\"right\" csk=\"14\" data-stat=\"rank\" scope=\"row\">14</th>, <th class=\"right\" csk=\"15\" data-stat=\"rank\" scope=\"row\">15</th>, <th class=\"right\" csk=\"16\" data-stat=\"rank\" scope=\"row\">16</th>, <th class=\"right\" csk=\"17\" data-stat=\"rank\" scope=\"row\">17</th>, <th class=\"right relegate qualification_indicator\" csk=\"18\" data-stat=\"rank\" scope=\"row\">18</th>, <th class=\"right relegate qualification_indicator\" csk=\"19\" data-stat=\"rank\" scope=\"row\">19</th>, <th class=\"right relegate qualification_indicator\" csk=\"20\" data-stat=\"rank\" scope=\"row\">20</th>, <th aria-label=\"\" class=\"over_header center\" colspan=\"2\" data-stat=\"\"></th>, <th aria-label=\"\" class=\"over_header center group_start\" colspan=\"13\" data-stat=\"header_home\">Local</th>, <th aria-label=\"\" class=\"over_header center group_start\" colspan=\"13\" data-stat=\"header_away\">Visitante</th>, <th aria-label=\"Rango\" class=\"poptip sort_default_asc center\" data-stat=\"rank\" data-tip=\"&lt;strong&gt;Rango&lt;/strong&gt;&lt;br&gt;Posición final del equipo en la competencia&lt;br&gt;Terminan dentro de la liga o competición.&lt;br&gt;Para las competiciones eliminatorias se puede mostrar la ronda final alcanzada.&lt;br&gt;Los colores y flechas representan los ascensos/descensos o clasificación para las copas continentales.&lt;br&gt;El trofeo indica que el equipo ganó la liga ya sea por eliminatorias o por liderar la tabla de clasificación.&lt;br&gt;La estrella indica que está en la primera posición de la tabla de la liga UTILIZANDO otra forma de nombrar al campeón.\" scope=\"col\">RL</th>, <th aria-label=\"Equipo\" class=\"poptip sort_default_asc center\" data-stat=\"team\" scope=\"col\">Equipo</th>, <th aria-label=\"Partidos jugados\" class=\"poptip center group_start\" data-over-header=\"Local\" data-stat=\"home_games\" data-tip=\"&lt;strong&gt;Partidos jugados&lt;/strong&gt;&lt;br&gt;Partidos jugados por el jugador o el equipo\" scope=\"col\">PJ</th>, <th aria-label=\"Partidos Ganados\" class=\"poptip center\" data-over-header=\"Local\" data-stat=\"home_wins\" data-tip=\"&lt;strong&gt;Partidos Ganados&lt;/strong&gt;&lt;br&gt;Partidos Ganados\" scope=\"col\">PG</th>, <th aria-label=\"Partidos Empatados\" class=\"poptip center\" data-over-header=\"Local\" data-stat=\"home_ties\" data-tip=\"&lt;strong&gt;Partidos Empatados&lt;/strong&gt;&lt;br&gt;Partidos Empatados\" scope=\"col\">PE</th>, <th aria-label=\"Partidos Perdidos\" class=\"poptip center\" data-over-header=\"Local\" data-stat=\"home_losses\" data-tip=\"&lt;strong&gt;Partidos Perdidos&lt;/strong&gt;&lt;br&gt;Partidos Perdidos\" scope=\"col\">PP</th>, <th aria-label=\"Goles a favor\" class=\"poptip center\" data-over-header=\"Local\" data-stat=\"home_goals_for\" data-tip=\"&lt;strong&gt;Goles a favor&lt;/strong&gt;&lt;br&gt;Goles a favor\" scope=\"col\">GF</th>, <th aria-label=\"Goles en contra\" class=\"poptip center\" data-over-header=\"Local\" data-stat=\"home_goals_against\" data-tip=\"&lt;strong&gt;Goles en contra&lt;/strong&gt;&lt;br&gt;Goles en contra\" scope=\"col\">GC</th>, <th aria-label=\"Diferencia de goles\" class=\"poptip center\" data-over-header=\"Local\" data-stat=\"home_goal_diff\" data-tip=\"&lt;strong&gt;Diferencia de goles&lt;/strong&gt;&lt;br&gt;Diferencia de goles\" scope=\"col\">DG</th>, <th aria-label=\"Puntos\" class=\"poptip center\" data-over-header=\"Local\" data-stat=\"home_points\" data-tip=\"&lt;strong&gt;Puntos&lt;/strong&gt;&lt;br&gt;La mayoría de las ligas están ordenadas por puntos.&lt;br&gt;Tres para una victoria y una para un empate.\" scope=\"col\">Pts</th>, <th aria-label=\"Puntos/Partido\" class=\"poptip center\" data-over-header=\"Local\" data-stat=\"home_points_avg\" data-tip=\"&lt;strong&gt;Puntos/Partido&lt;/strong&gt;&lt;br&gt;Puntos por partido jugado\" scope=\"col\">Pts/PJ</th>, <th aria-label=\"xG\" class=\"poptip center\" data-filter=\"1\" data-name=\"xG\" data-over-header=\"Local\" data-stat=\"home_xg_for\" data-tip=\"&lt;strong&gt;Goles esperados&lt;/strong&gt;&lt;br&gt;Los totales de xG incluyen los tiros desde el punto penal, pero no incluyen las tandas de penales (a menos que se indique lo contrario).&lt;br&gt;Ofrecido por Opta.&lt;br&gt;Un subrayado indica que hay un partido que no contiene datos, pero que se actualizará cuando esté disponible.\" scope=\"col\">xG</th>, <th aria-label=\"Goles esperados (xG) permitidos\" class=\"poptip sort_default_asc center\" data-over-header=\"Local\" data-stat=\"home_xg_against\" data-tip=\"&lt;strong&gt;Goles esperados (xG) permitidos&lt;/strong&gt;&lt;br&gt;&lt;strong&gt;Goles esperados permitidos&lt;/strong&gt;&lt;br&gt;Los totales de xG incluyen los tiros desde el punto penal, pero no incluyen las tandas de penales (a menos que se indique lo contrario).&lt;br&gt;Ofrecido por Opta.&lt;br&gt;Un subrayado indica que hay un partido que no contiene datos, pero que se actualizará cuando esté disponible.\" scope=\"col\">xGA</th>, <th aria-label=\"Goles esperados (xG) diferencia\" class=\"poptip center\" data-filter=\"1\" data-name=\"Goles esperados (xG) diferencia\" data-over-header=\"Local\" data-stat=\"home_xg_diff\" data-tip=\"&lt;strong&gt;Goles esperados (xG) diferencia&lt;/strong&gt;&lt;br&gt;&lt;strong&gt;Diferencia de goles esperados&lt;/strong&gt;&lt;br&gt;Los totales de xG incluyen los tiros desde el punto penal, pero no incluyen las tandas de penales (a menos que se indique lo contrario).&lt;br&gt;Ofrecido por Opta.&lt;br&gt;Un subrayado indica que hay un partido que no contiene datos, pero que se actualizará cuando esté disponible.\" scope=\"col\">xGD</th>, <th aria-label=\"Goles esperados (xG) diferencia/90\" class=\"poptip hide_non_quals center\" data-over-header=\"Local\" data-stat=\"home_xg_diff_per90\" data-tip=\"&lt;strong&gt;Goles esperados (xG) diferencia/90&lt;/strong&gt;&lt;br&gt;&lt;strong&gt;Diferencia de goles esperados por 90 minutos&lt;/strong&gt;&lt;br&gt;Los totales de xG incluyen los tiros desde el punto penal, pero no incluyen las tandas de penales (a menos que se indique lo contrario).&lt;br&gt;Ofrecido por Opta.&lt;br&gt;Un subrayado indica que hay un partido que no contiene datos, pero que se actualizará cuando esté disponible.\" scope=\"col\">xGD/90</th>, <th aria-label=\"Partidos jugados\" class=\"poptip center group_start\" data-over-header=\"Visitante\" data-stat=\"away_games\" data-tip=\"&lt;strong&gt;Partidos jugados&lt;/strong&gt;&lt;br&gt;Partidos jugados por el jugador o el equipo\" scope=\"col\">PJ</th>, <th aria-label=\"Partidos Ganados\" class=\"poptip center\" data-over-header=\"Visitante\" data-stat=\"away_wins\" data-tip=\"&lt;strong&gt;Partidos Ganados&lt;/strong&gt;&lt;br&gt;Partidos Ganados\" scope=\"col\">PG</th>, <th aria-label=\"Partidos Empatados\" class=\"poptip center\" data-over-header=\"Visitante\" data-stat=\"away_ties\" data-tip=\"&lt;strong&gt;Partidos Empatados&lt;/strong&gt;&lt;br&gt;Partidos Empatados\" scope=\"col\">PE</th>, <th aria-label=\"Partidos Perdidos\" class=\"poptip center\" data-over-header=\"Visitante\" data-stat=\"away_losses\" data-tip=\"&lt;strong&gt;Partidos Perdidos&lt;/strong&gt;&lt;br&gt;Partidos Perdidos\" scope=\"col\">PP</th>, <th aria-label=\"Goles a favor\" class=\"poptip center\" data-over-header=\"Visitante\" data-stat=\"away_goals_for\" data-tip=\"&lt;strong&gt;Goles a favor&lt;/strong&gt;&lt;br&gt;Goles a favor\" scope=\"col\">GF</th>, <th aria-label=\"Goles en contra\" class=\"poptip center\" data-over-header=\"Visitante\" data-stat=\"away_goals_against\" data-tip=\"&lt;strong&gt;Goles en contra&lt;/strong&gt;&lt;br&gt;Goles en contra\" scope=\"col\">GC</th>, <th aria-label=\"Diferencia de goles\" class=\"poptip center\" data-over-header=\"Visitante\" data-stat=\"away_goal_diff\" data-tip=\"&lt;strong&gt;Diferencia de goles&lt;/strong&gt;&lt;br&gt;Diferencia de goles\" scope=\"col\">DG</th>, <th aria-label=\"Puntos\" class=\"poptip center\" data-over-header=\"Visitante\" data-stat=\"away_points\" data-tip=\"&lt;strong&gt;Puntos&lt;/strong&gt;&lt;br&gt;La mayoría de las ligas están ordenadas por puntos.&lt;br&gt;Tres para una victoria y una para un empate.\" scope=\"col\">Pts</th>, <th aria-label=\"Puntos/Partido\" class=\"poptip center\" data-over-header=\"Visitante\" data-stat=\"away_points_avg\" data-tip=\"&lt;strong&gt;Puntos/Partido&lt;/strong&gt;&lt;br&gt;Puntos por partido jugado\" scope=\"col\">Pts/PJ</th>, <th aria-label=\"xG\" class=\"poptip center\" data-filter=\"1\" data-name=\"xG\" data-over-header=\"Visitante\" data-stat=\"away_xg_for\" data-tip=\"&lt;strong&gt;Goles esperados&lt;/strong&gt;&lt;br&gt;Los totales de xG incluyen los tiros desde el punto penal, pero no incluyen las tandas de penales (a menos que se indique lo contrario).&lt;br&gt;Ofrecido por Opta.&lt;br&gt;Un subrayado indica que hay un partido que no contiene datos, pero que se actualizará cuando esté disponible.\" scope=\"col\">xG</th>, <th aria-label=\"Goles esperados (xG) permitidos\" class=\"poptip sort_default_asc center\" data-over-header=\"Visitante\" data-stat=\"away_xg_against\" data-tip=\"&lt;strong&gt;Goles esperados (xG) permitidos&lt;/strong&gt;&lt;br&gt;&lt;strong&gt;Goles esperados permitidos&lt;/strong&gt;&lt;br&gt;Los totales de xG incluyen los tiros desde el punto penal, pero no incluyen las tandas de penales (a menos que se indique lo contrario).&lt;br&gt;Ofrecido por Opta.&lt;br&gt;Un subrayado indica que hay un partido que no contiene datos, pero que se actualizará cuando esté disponible.\" scope=\"col\">xGA</th>, <th aria-label=\"Goles esperados (xG) diferencia\" class=\"poptip center\" data-filter=\"1\" data-name=\"Goles esperados (xG) diferencia\" data-over-header=\"Visitante\" data-stat=\"away_xg_diff\" data-tip=\"&lt;strong&gt;Goles esperados (xG) diferencia&lt;/strong&gt;&lt;br&gt;&lt;strong&gt;Diferencia de goles esperados&lt;/strong&gt;&lt;br&gt;Los totales de xG incluyen los tiros desde el punto penal, pero no incluyen las tandas de penales (a menos que se indique lo contrario).&lt;br&gt;Ofrecido por Opta.&lt;br&gt;Un subrayado indica que hay un partido que no contiene datos, pero que se actualizará cuando esté disponible.\" scope=\"col\">xGD</th>, <th aria-label=\"Goles esperados (xG) diferencia/90\" class=\"poptip hide_non_quals center\" data-over-header=\"Visitante\" data-stat=\"away_xg_diff_per90\" data-tip=\"&lt;strong&gt;Goles esperados (xG) diferencia/90&lt;/strong&gt;&lt;br&gt;&lt;strong&gt;Diferencia de goles esperados por 90 minutos&lt;/strong&gt;&lt;br&gt;Los totales de xG incluyen los tiros desde el punto penal, pero no incluyen las tandas de penales (a menos que se indique lo contrario).&lt;br&gt;Ofrecido por Opta.&lt;br&gt;Un subrayado indica que hay un partido que no contiene datos, pero que se actualizará cuando esté disponible.\" scope=\"col\">xGD/90</th>, <th class=\"right qualifier qualification_indicator1\" csk=\"1\" data-stat=\"rank\" scope=\"row\">1</th>, <th class=\"right qualifier qualification_indicator1\" csk=\"2\" data-stat=\"rank\" scope=\"row\">2</th>, <th class=\"right qualifier qualification_indicator1\" csk=\"3\" data-stat=\"rank\" scope=\"row\">3</th>, <th class=\"right qualifier qualification_indicator1\" csk=\"4\" data-stat=\"rank\" scope=\"row\">4</th>, <th class=\"right qualifier qualification_indicator2\" csk=\"5\" data-stat=\"rank\" scope=\"row\">5</th>, <th class=\"right qualifier qualification_indicator2\" csk=\"6\" data-stat=\"rank\" scope=\"row\">6</th>, <th class=\"right qualifier qualification_indicator3\" csk=\"7\" data-stat=\"rank\" scope=\"row\">7</th>, <th class=\"right\" csk=\"8\" data-stat=\"rank\" scope=\"row\">8</th>, <th class=\"right\" csk=\"9\" data-stat=\"rank\" scope=\"row\">9</th>, <th class=\"right\" csk=\"10\" data-stat=\"rank\" scope=\"row\">10</th>, <th class=\"right\" csk=\"11\" data-stat=\"rank\" scope=\"row\">11</th>, <th class=\"right\" csk=\"12\" data-stat=\"rank\" scope=\"row\">12</th>, <th class=\"right\" csk=\"13\" data-stat=\"rank\" scope=\"row\">13</th>, <th class=\"right\" csk=\"14\" data-stat=\"rank\" scope=\"row\">14</th>, <th class=\"right\" csk=\"15\" data-stat=\"rank\" scope=\"row\">15</th>, <th class=\"right\" csk=\"16\" data-stat=\"rank\" scope=\"row\">16</th>, <th class=\"right\" csk=\"17\" data-stat=\"rank\" scope=\"row\">17</th>, <th class=\"right relegate qualification_indicator\" csk=\"18\" data-stat=\"rank\" scope=\"row\">18</th>, <th class=\"right relegate qualification_indicator\" csk=\"19\" data-stat=\"rank\" scope=\"row\">19</th>, <th class=\"right relegate qualification_indicator\" csk=\"20\" data-stat=\"rank\" scope=\"row\">20</th>]\n"
     ]
    }
   ],
   "execution_count": 3
  },
  {
   "metadata": {
    "ExecuteTime": {
     "end_time": "2025-06-09T20:14:30.184219Z",
     "start_time": "2025-06-09T20:14:30.161514Z"
    }
   },
   "cell_type": "code",
   "source": [
    "colum_name = [i.text for i in columnas]\n",
    "colum_name = colum_name[1:16]\n",
    "print(colum_name)"
   ],
   "id": "fec6b4914d83d8a4",
   "outputs": [
    {
     "name": "stdout",
     "output_type": "stream",
     "text": [
      "['Equipo', 'PJ', 'PG', 'PE', 'PP', 'GF', 'GC', 'DG', 'Pts', 'Pts/PJ', 'xG', 'xGA', 'xGD', 'xGD/90', 'Asistencia']\n"
     ]
    }
   ],
   "execution_count": 4
  },
  {
   "metadata": {
    "ExecuteTime": {
     "end_time": "2025-06-09T20:14:31.253047Z",
     "start_time": "2025-06-09T20:14:30.215428Z"
    }
   },
   "cell_type": "code",
   "source": [
    "import pandas as pd\n",
    "df = pd.DataFrame(columns = colum_name)\n"
   ],
   "id": "ef09755acdd65e19",
   "outputs": [],
   "execution_count": 5
  },
  {
   "metadata": {
    "ExecuteTime": {
     "end_time": "2025-06-09T20:15:23.247977Z",
     "start_time": "2025-06-09T20:15:23.224807Z"
    }
   },
   "cell_type": "code",
   "source": [
    "datos_sucios = table[0].find_all('tr')\n",
    "nuevos_datos = []\n",
    "for i in datos_sucios:\n",
    "    datos = i.find_all('td')\n",
    "    if len(datos) > 0:\n",
    "        datos_limpios = [dato.text.strip() for dato in datos]\n",
    "        nuevos_datos.append(datos_limpios)\n",
    "nuevos_datos = [dato[:15] for dato in nuevos_datos]\n"
   ],
   "id": "36c35e456f7f8ce0",
   "outputs": [
    {
     "name": "stdout",
     "output_type": "stream",
     "text": [
      "<class 'list'>\n"
     ]
    }
   ],
   "execution_count": 9
  },
  {
   "metadata": {
    "ExecuteTime": {
     "end_time": "2025-06-09T20:14:35.547925Z",
     "start_time": "2025-06-09T20:14:33.786652Z"
    }
   },
   "cell_type": "code",
   "source": [
    "prueba = pd.DataFrame(nuevos_datos, columns = colum_name)\n",
    "print(prueba)"
   ],
   "id": "5da674b371a2199f",
   "outputs": [
    {
     "ename": "KeyError",
     "evalue": "0",
     "output_type": "error",
     "traceback": [
      "\u001B[31m---------------------------------------------------------------------------\u001B[39m",
      "\u001B[31mKeyError\u001B[39m                                  Traceback (most recent call last)",
      "\u001B[36mFile \u001B[39m\u001B[32m~\\PycharmProjects\\ProyectoVerano2025\\.venv\\Lib\\site-packages\\pandas\\core\\indexes\\base.py:3805\u001B[39m, in \u001B[36mIndex.get_loc\u001B[39m\u001B[34m(self, key)\u001B[39m\n\u001B[32m   3804\u001B[39m \u001B[38;5;28;01mtry\u001B[39;00m:\n\u001B[32m-> \u001B[39m\u001B[32m3805\u001B[39m     \u001B[38;5;28;01mreturn\u001B[39;00m \u001B[38;5;28;43mself\u001B[39;49m\u001B[43m.\u001B[49m\u001B[43m_engine\u001B[49m\u001B[43m.\u001B[49m\u001B[43mget_loc\u001B[49m\u001B[43m(\u001B[49m\u001B[43mcasted_key\u001B[49m\u001B[43m)\u001B[49m\n\u001B[32m   3806\u001B[39m \u001B[38;5;28;01mexcept\u001B[39;00m \u001B[38;5;167;01mKeyError\u001B[39;00m \u001B[38;5;28;01mas\u001B[39;00m err:\n",
      "\u001B[36mFile \u001B[39m\u001B[32mindex.pyx:167\u001B[39m, in \u001B[36mpandas._libs.index.IndexEngine.get_loc\u001B[39m\u001B[34m()\u001B[39m\n",
      "\u001B[36mFile \u001B[39m\u001B[32mindex.pyx:196\u001B[39m, in \u001B[36mpandas._libs.index.IndexEngine.get_loc\u001B[39m\u001B[34m()\u001B[39m\n",
      "\u001B[36mFile \u001B[39m\u001B[32mpandas\\\\_libs\\\\hashtable_class_helper.pxi:7081\u001B[39m, in \u001B[36mpandas._libs.hashtable.PyObjectHashTable.get_item\u001B[39m\u001B[34m()\u001B[39m\n",
      "\u001B[36mFile \u001B[39m\u001B[32mpandas\\\\_libs\\\\hashtable_class_helper.pxi:7089\u001B[39m, in \u001B[36mpandas._libs.hashtable.PyObjectHashTable.get_item\u001B[39m\u001B[34m()\u001B[39m\n",
      "\u001B[31mKeyError\u001B[39m: 0",
      "\nThe above exception was the direct cause of the following exception:\n",
      "\u001B[31mKeyError\u001B[39m                                  Traceback (most recent call last)",
      "\u001B[36mCell\u001B[39m\u001B[36m \u001B[39m\u001B[32mIn[7]\u001B[39m\u001B[32m, line 2\u001B[39m\n\u001B[32m      1\u001B[39m prueba = pd.DataFrame(nuevos_datos, columns = colum_name)\n\u001B[32m----> \u001B[39m\u001B[32m2\u001B[39m \u001B[38;5;28mprint\u001B[39m(\u001B[38;5;28mtype\u001B[39m(\u001B[43mprueba\u001B[49m\u001B[43m[\u001B[49m\u001B[32;43m0\u001B[39;49m\u001B[43m]\u001B[49m))\n\u001B[32m      3\u001B[39m \u001B[38;5;28mprint\u001B[39m(prueba)\n",
      "\u001B[36mFile \u001B[39m\u001B[32m~\\PycharmProjects\\ProyectoVerano2025\\.venv\\Lib\\site-packages\\pandas\\core\\frame.py:4102\u001B[39m, in \u001B[36mDataFrame.__getitem__\u001B[39m\u001B[34m(self, key)\u001B[39m\n\u001B[32m   4100\u001B[39m \u001B[38;5;28;01mif\u001B[39;00m \u001B[38;5;28mself\u001B[39m.columns.nlevels > \u001B[32m1\u001B[39m:\n\u001B[32m   4101\u001B[39m     \u001B[38;5;28;01mreturn\u001B[39;00m \u001B[38;5;28mself\u001B[39m._getitem_multilevel(key)\n\u001B[32m-> \u001B[39m\u001B[32m4102\u001B[39m indexer = \u001B[38;5;28;43mself\u001B[39;49m\u001B[43m.\u001B[49m\u001B[43mcolumns\u001B[49m\u001B[43m.\u001B[49m\u001B[43mget_loc\u001B[49m\u001B[43m(\u001B[49m\u001B[43mkey\u001B[49m\u001B[43m)\u001B[49m\n\u001B[32m   4103\u001B[39m \u001B[38;5;28;01mif\u001B[39;00m is_integer(indexer):\n\u001B[32m   4104\u001B[39m     indexer = [indexer]\n",
      "\u001B[36mFile \u001B[39m\u001B[32m~\\PycharmProjects\\ProyectoVerano2025\\.venv\\Lib\\site-packages\\pandas\\core\\indexes\\base.py:3812\u001B[39m, in \u001B[36mIndex.get_loc\u001B[39m\u001B[34m(self, key)\u001B[39m\n\u001B[32m   3807\u001B[39m     \u001B[38;5;28;01mif\u001B[39;00m \u001B[38;5;28misinstance\u001B[39m(casted_key, \u001B[38;5;28mslice\u001B[39m) \u001B[38;5;129;01mor\u001B[39;00m (\n\u001B[32m   3808\u001B[39m         \u001B[38;5;28misinstance\u001B[39m(casted_key, abc.Iterable)\n\u001B[32m   3809\u001B[39m         \u001B[38;5;129;01mand\u001B[39;00m \u001B[38;5;28many\u001B[39m(\u001B[38;5;28misinstance\u001B[39m(x, \u001B[38;5;28mslice\u001B[39m) \u001B[38;5;28;01mfor\u001B[39;00m x \u001B[38;5;129;01min\u001B[39;00m casted_key)\n\u001B[32m   3810\u001B[39m     ):\n\u001B[32m   3811\u001B[39m         \u001B[38;5;28;01mraise\u001B[39;00m InvalidIndexError(key)\n\u001B[32m-> \u001B[39m\u001B[32m3812\u001B[39m     \u001B[38;5;28;01mraise\u001B[39;00m \u001B[38;5;167;01mKeyError\u001B[39;00m(key) \u001B[38;5;28;01mfrom\u001B[39;00m\u001B[38;5;250m \u001B[39m\u001B[34;01merr\u001B[39;00m\n\u001B[32m   3813\u001B[39m \u001B[38;5;28;01mexcept\u001B[39;00m \u001B[38;5;167;01mTypeError\u001B[39;00m:\n\u001B[32m   3814\u001B[39m     \u001B[38;5;66;03m# If we have a listlike key, _check_indexing_error will raise\u001B[39;00m\n\u001B[32m   3815\u001B[39m     \u001B[38;5;66;03m#  InvalidIndexError. Otherwise we fall through and re-raise\u001B[39;00m\n\u001B[32m   3816\u001B[39m     \u001B[38;5;66;03m#  the TypeError.\u001B[39;00m\n\u001B[32m   3817\u001B[39m     \u001B[38;5;28mself\u001B[39m._check_indexing_error(key)\n",
      "\u001B[31mKeyError\u001B[39m: 0"
     ]
    }
   ],
   "execution_count": 7
  },
  {
   "metadata": {
    "ExecuteTime": {
     "end_time": "2025-06-09T20:18:22.003414Z",
     "start_time": "2025-06-09T20:18:21.986379Z"
    }
   },
   "cell_type": "code",
   "source": "prueba.to_csv(r'C:\\Users\\galle\\Desktop\\fbref_laliga_2024.csv', index = False, sep = ';')",
   "id": "6274ae275d06a54d",
   "outputs": [],
   "execution_count": 12
  }
 ],
 "metadata": {
  "kernelspec": {
   "display_name": "Python 3",
   "language": "python",
   "name": "python3"
  },
  "language_info": {
   "codemirror_mode": {
    "name": "ipython",
    "version": 2
   },
   "file_extension": ".py",
   "mimetype": "text/x-python",
   "name": "python",
   "nbconvert_exporter": "python",
   "pygments_lexer": "ipython2",
   "version": "2.7.6"
  }
 },
 "nbformat": 4,
 "nbformat_minor": 5
}
