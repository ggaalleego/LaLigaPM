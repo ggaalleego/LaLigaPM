{
 "cells": [
  {
   "metadata": {},
   "cell_type": "markdown",
   "source": "FBref Scrapping",
   "id": "142d51338067c175"
  },
  {
   "metadata": {
    "ExecuteTime": {
     "end_time": "2025-06-09T18:22:48.368170Z",
     "start_time": "2025-06-09T18:22:24.927141Z"
    }
   },
   "cell_type": "code",
   "source": [
    "from selenium import webdriver\n",
    "from selenium.webdriver.chrome.service import Service\n",
    "from selenium.webdriver.chrome.options import Options\n",
    "from webdriver_manager.chrome import ChromeDriverManager\n",
    "options = Options()\n",
    "options.add_argument(\"--headless\")\n",
    "options.add_argument(\"--no-sandbox\")\n",
    "options.add_argument(\"--disable-dev-shm-usage\")\n",
    "driver = webdriver.Chrome(service=Service(ChromeDriverManager().install()), options =  options)\n",
    "from bs4 import BeautifulSoup\n",
    "\n",
    "\n",
    "url = 'https://fbref.com/es/comps/12/Estadisticas-de-La-Liga'\n",
    "response = driver.get(url)\n",
    "html = driver.page_source\n",
    "soup = BeautifulSoup(html, 'html.parser')\n",
    "\n",
    "# Buscamos la tabla de estadísticas\n",
    "table = soup.find_all('div', id = 'all_results2024-2025121')"
   ],
   "id": "e627e66668ea2b36",
   "outputs": [],
   "execution_count": 1
  },
  {
   "metadata": {
    "ExecuteTime": {
     "end_time": "2025-06-09T18:22:48.425829Z",
     "start_time": "2025-06-09T18:22:48.400067Z"
    }
   },
   "cell_type": "code",
   "source": [
    "columnas = table[0].find_all('th')\n",
    "print(columnas)\n",
    "\n"
   ],
   "id": "8ba70316d2a717fd",
   "outputs": [
    {
     "name": "stdout",
     "output_type": "stream",
     "text": [
      "[<th aria-label=\"Rango\" class=\"poptip sort_default_asc center\" data-stat=\"rank\" data-tip=\"&lt;strong&gt;Rango&lt;/strong&gt;&lt;br&gt;Posición final del equipo en la competencia&lt;br&gt;Terminan dentro de la liga o competición.&lt;br&gt;Para las competiciones eliminatorias se puede mostrar la ronda final alcanzada.&lt;br&gt;Los colores y flechas representan los ascensos/descensos o clasificación para las copas continentales.&lt;br&gt;El trofeo indica que el equipo ganó la liga ya sea por eliminatorias o por liderar la tabla de clasificación.&lt;br&gt;La estrella indica que está en la primera posición de la tabla de la liga UTILIZANDO otra forma de nombrar al campeón.\" scope=\"col\">RL</th>, <th aria-label=\"Equipo\" class=\"poptip sort_default_asc center\" data-stat=\"team\" scope=\"col\">Equipo</th>, <th aria-label=\"Partidos jugados\" class=\"poptip center\" data-stat=\"games\" data-tip=\"&lt;strong&gt;Partidos jugados&lt;/strong&gt;&lt;br&gt;Partidos jugados por el jugador o el equipo\" scope=\"col\">PJ</th>, <th aria-label=\"Partidos Ganados\" class=\"poptip center\" data-stat=\"wins\" data-tip=\"&lt;strong&gt;Partidos Ganados&lt;/strong&gt;&lt;br&gt;Partidos Ganados\" scope=\"col\">PG</th>, <th aria-label=\"Partidos Empatados\" class=\"poptip center\" data-stat=\"ties\" data-tip=\"&lt;strong&gt;Partidos Empatados&lt;/strong&gt;&lt;br&gt;Partidos Empatados\" scope=\"col\">PE</th>, <th aria-label=\"Partidos Perdidos\" class=\"poptip center\" data-stat=\"losses\" data-tip=\"&lt;strong&gt;Partidos Perdidos&lt;/strong&gt;&lt;br&gt;Partidos Perdidos\" scope=\"col\">PP</th>, <th aria-label=\"Goles a favor\" class=\"poptip center\" data-stat=\"goals_for\" data-tip=\"&lt;strong&gt;Goles a favor&lt;/strong&gt;&lt;br&gt;Goles a favor\" scope=\"col\">GF</th>, <th aria-label=\"Goles en contra\" class=\"poptip center\" data-stat=\"goals_against\" data-tip=\"&lt;strong&gt;Goles en contra&lt;/strong&gt;&lt;br&gt;Goles en contra\" scope=\"col\">GC</th>, <th aria-label=\"Diferencia de goles\" class=\"poptip center\" data-stat=\"goal_diff\" data-tip=\"&lt;strong&gt;Diferencia de goles&lt;/strong&gt;&lt;br&gt;Diferencia de goles\" scope=\"col\">DG</th>, <th aria-label=\"Puntos\" class=\"poptip center\" data-stat=\"points\" data-tip=\"&lt;strong&gt;Puntos&lt;/strong&gt;&lt;br&gt;La mayoría de las ligas están ordenadas por puntos.&lt;br&gt;Tres para una victoria y una para un empate.\" scope=\"col\">Pts</th>, <th aria-label=\"Puntos/Partido\" class=\"poptip center\" data-stat=\"points_avg\" data-tip=\"&lt;strong&gt;Puntos/Partido&lt;/strong&gt;&lt;br&gt;Puntos por partido jugado\" scope=\"col\">Pts/PJ</th>, <th aria-label=\"xG\" class=\"poptip center\" data-filter=\"1\" data-name=\"xG\" data-stat=\"xg_for\" data-tip=\"&lt;strong&gt;Goles esperados&lt;/strong&gt;&lt;br&gt;Los totales de xG incluyen los tiros desde el punto penal, pero no incluyen las tandas de penales (a menos que se indique lo contrario).&lt;br&gt;Ofrecido por Opta.&lt;br&gt;Un subrayado indica que hay un partido que no contiene datos, pero que se actualizará cuando esté disponible.\" scope=\"col\">xG</th>, <th aria-label=\"Goles esperados (xG) permitidos\" class=\"poptip sort_default_asc center\" data-stat=\"xg_against\" data-tip=\"&lt;strong&gt;Goles esperados (xG) permitidos&lt;/strong&gt;&lt;br&gt;&lt;strong&gt;Goles esperados permitidos&lt;/strong&gt;&lt;br&gt;Los totales de xG incluyen los tiros desde el punto penal, pero no incluyen las tandas de penales (a menos que se indique lo contrario).&lt;br&gt;Ofrecido por Opta.&lt;br&gt;Un subrayado indica que hay un partido que no contiene datos, pero que se actualizará cuando esté disponible.\" scope=\"col\">xGA</th>, <th aria-label=\"Goles esperados (xG) diferencia\" class=\"poptip center\" data-filter=\"1\" data-name=\"Goles esperados (xG) diferencia\" data-stat=\"xg_diff\" data-tip=\"&lt;strong&gt;Goles esperados (xG) diferencia&lt;/strong&gt;&lt;br&gt;&lt;strong&gt;Diferencia de goles esperados&lt;/strong&gt;&lt;br&gt;Los totales de xG incluyen los tiros desde el punto penal, pero no incluyen las tandas de penales (a menos que se indique lo contrario).&lt;br&gt;Ofrecido por Opta.&lt;br&gt;Un subrayado indica que hay un partido que no contiene datos, pero que se actualizará cuando esté disponible.\" scope=\"col\">xGD</th>, <th aria-label=\"Goles esperados (xG) diferencia/90\" class=\"poptip hide_non_quals center\" data-stat=\"xg_diff_per90\" data-tip=\"&lt;strong&gt;Goles esperados (xG) diferencia/90&lt;/strong&gt;&lt;br&gt;&lt;strong&gt;Diferencia de goles esperados por 90 minutos&lt;/strong&gt;&lt;br&gt;Los totales de xG incluyen los tiros desde el punto penal, pero no incluyen las tandas de penales (a menos que se indique lo contrario).&lt;br&gt;Ofrecido por Opta.&lt;br&gt;Un subrayado indica que hay un partido que no contiene datos, pero que se actualizará cuando esté disponible.\" scope=\"col\">xGD/90</th>, <th aria-label=\"Asistencia/partido\" class=\"poptip center\" data-stat=\"attendance_per_g\" data-tip=\"&lt;strong&gt;Asistencia/partido&lt;/strong&gt;&lt;br&gt;Asistencia por partido durante esta temporada, solo para partidos como locales\" scope=\"col\">Asistencia</th>, <th aria-label=\"Máximo Goleador del Equipo\" class=\"poptip center\" data-stat=\"top_team_scorers\" data-tip=\"Solo incluye los partidos de liga de esa temporada\" scope=\"col\">Máximo Goleador del Equipo</th>, <th aria-label=\"Portero\" class=\"poptip center\" data-stat=\"top_keeper\" data-tip=\"Portero con más minutos de juego en la liga\" scope=\"col\">Portero</th>, <th aria-label=\"Notas\" class=\"poptip center\" data-stat=\"notes\" scope=\"col\">Notas</th>, <th class=\"right qualifier qualification_indicator1\" csk=\"1\" data-stat=\"rank\" scope=\"row\">1</th>, <th class=\"right qualifier qualification_indicator1\" csk=\"2\" data-stat=\"rank\" scope=\"row\">2</th>, <th class=\"right qualifier qualification_indicator1\" csk=\"3\" data-stat=\"rank\" scope=\"row\">3</th>, <th class=\"right qualifier qualification_indicator1\" csk=\"4\" data-stat=\"rank\" scope=\"row\">4</th>, <th class=\"right qualifier qualification_indicator2\" csk=\"5\" data-stat=\"rank\" scope=\"row\">5</th>, <th class=\"right qualifier qualification_indicator2\" csk=\"6\" data-stat=\"rank\" scope=\"row\">6</th>, <th class=\"right qualifier qualification_indicator3\" csk=\"7\" data-stat=\"rank\" scope=\"row\">7</th>, <th class=\"right\" csk=\"8\" data-stat=\"rank\" scope=\"row\">8</th>, <th class=\"right\" csk=\"9\" data-stat=\"rank\" scope=\"row\">9</th>, <th class=\"right\" csk=\"10\" data-stat=\"rank\" scope=\"row\">10</th>, <th class=\"right\" csk=\"11\" data-stat=\"rank\" scope=\"row\">11</th>, <th class=\"right\" csk=\"12\" data-stat=\"rank\" scope=\"row\">12</th>, <th class=\"right\" csk=\"13\" data-stat=\"rank\" scope=\"row\">13</th>, <th class=\"right\" csk=\"14\" data-stat=\"rank\" scope=\"row\">14</th>, <th class=\"right\" csk=\"15\" data-stat=\"rank\" scope=\"row\">15</th>, <th class=\"right\" csk=\"16\" data-stat=\"rank\" scope=\"row\">16</th>, <th class=\"right\" csk=\"17\" data-stat=\"rank\" scope=\"row\">17</th>, <th class=\"right relegate qualification_indicator\" csk=\"18\" data-stat=\"rank\" scope=\"row\">18</th>, <th class=\"right relegate qualification_indicator\" csk=\"19\" data-stat=\"rank\" scope=\"row\">19</th>, <th class=\"right relegate qualification_indicator\" csk=\"20\" data-stat=\"rank\" scope=\"row\">20</th>, <th aria-label=\"\" class=\"over_header center\" colspan=\"2\" data-stat=\"\"></th>, <th aria-label=\"\" class=\"over_header center group_start\" colspan=\"13\" data-stat=\"header_home\">Local</th>, <th aria-label=\"\" class=\"over_header center group_start\" colspan=\"13\" data-stat=\"header_away\">Visitante</th>, <th aria-label=\"Rango\" class=\"poptip sort_default_asc center\" data-stat=\"rank\" data-tip=\"&lt;strong&gt;Rango&lt;/strong&gt;&lt;br&gt;Posición final del equipo en la competencia&lt;br&gt;Terminan dentro de la liga o competición.&lt;br&gt;Para las competiciones eliminatorias se puede mostrar la ronda final alcanzada.&lt;br&gt;Los colores y flechas representan los ascensos/descensos o clasificación para las copas continentales.&lt;br&gt;El trofeo indica que el equipo ganó la liga ya sea por eliminatorias o por liderar la tabla de clasificación.&lt;br&gt;La estrella indica que está en la primera posición de la tabla de la liga UTILIZANDO otra forma de nombrar al campeón.\" scope=\"col\">RL</th>, <th aria-label=\"Equipo\" class=\"poptip sort_default_asc center\" data-stat=\"team\" scope=\"col\">Equipo</th>, <th aria-label=\"Partidos jugados\" class=\"poptip center group_start\" data-over-header=\"Local\" data-stat=\"home_games\" data-tip=\"&lt;strong&gt;Partidos jugados&lt;/strong&gt;&lt;br&gt;Partidos jugados por el jugador o el equipo\" scope=\"col\">PJ</th>, <th aria-label=\"Partidos Ganados\" class=\"poptip center\" data-over-header=\"Local\" data-stat=\"home_wins\" data-tip=\"&lt;strong&gt;Partidos Ganados&lt;/strong&gt;&lt;br&gt;Partidos Ganados\" scope=\"col\">PG</th>, <th aria-label=\"Partidos Empatados\" class=\"poptip center\" data-over-header=\"Local\" data-stat=\"home_ties\" data-tip=\"&lt;strong&gt;Partidos Empatados&lt;/strong&gt;&lt;br&gt;Partidos Empatados\" scope=\"col\">PE</th>, <th aria-label=\"Partidos Perdidos\" class=\"poptip center\" data-over-header=\"Local\" data-stat=\"home_losses\" data-tip=\"&lt;strong&gt;Partidos Perdidos&lt;/strong&gt;&lt;br&gt;Partidos Perdidos\" scope=\"col\">PP</th>, <th aria-label=\"Goles a favor\" class=\"poptip center\" data-over-header=\"Local\" data-stat=\"home_goals_for\" data-tip=\"&lt;strong&gt;Goles a favor&lt;/strong&gt;&lt;br&gt;Goles a favor\" scope=\"col\">GF</th>, <th aria-label=\"Goles en contra\" class=\"poptip center\" data-over-header=\"Local\" data-stat=\"home_goals_against\" data-tip=\"&lt;strong&gt;Goles en contra&lt;/strong&gt;&lt;br&gt;Goles en contra\" scope=\"col\">GC</th>, <th aria-label=\"Diferencia de goles\" class=\"poptip center\" data-over-header=\"Local\" data-stat=\"home_goal_diff\" data-tip=\"&lt;strong&gt;Diferencia de goles&lt;/strong&gt;&lt;br&gt;Diferencia de goles\" scope=\"col\">DG</th>, <th aria-label=\"Puntos\" class=\"poptip center\" data-over-header=\"Local\" data-stat=\"home_points\" data-tip=\"&lt;strong&gt;Puntos&lt;/strong&gt;&lt;br&gt;La mayoría de las ligas están ordenadas por puntos.&lt;br&gt;Tres para una victoria y una para un empate.\" scope=\"col\">Pts</th>, <th aria-label=\"Puntos/Partido\" class=\"poptip center\" data-over-header=\"Local\" data-stat=\"home_points_avg\" data-tip=\"&lt;strong&gt;Puntos/Partido&lt;/strong&gt;&lt;br&gt;Puntos por partido jugado\" scope=\"col\">Pts/PJ</th>, <th aria-label=\"xG\" class=\"poptip center\" data-filter=\"1\" data-name=\"xG\" data-over-header=\"Local\" data-stat=\"home_xg_for\" data-tip=\"&lt;strong&gt;Goles esperados&lt;/strong&gt;&lt;br&gt;Los totales de xG incluyen los tiros desde el punto penal, pero no incluyen las tandas de penales (a menos que se indique lo contrario).&lt;br&gt;Ofrecido por Opta.&lt;br&gt;Un subrayado indica que hay un partido que no contiene datos, pero que se actualizará cuando esté disponible.\" scope=\"col\">xG</th>, <th aria-label=\"Goles esperados (xG) permitidos\" class=\"poptip sort_default_asc center\" data-over-header=\"Local\" data-stat=\"home_xg_against\" data-tip=\"&lt;strong&gt;Goles esperados (xG) permitidos&lt;/strong&gt;&lt;br&gt;&lt;strong&gt;Goles esperados permitidos&lt;/strong&gt;&lt;br&gt;Los totales de xG incluyen los tiros desde el punto penal, pero no incluyen las tandas de penales (a menos que se indique lo contrario).&lt;br&gt;Ofrecido por Opta.&lt;br&gt;Un subrayado indica que hay un partido que no contiene datos, pero que se actualizará cuando esté disponible.\" scope=\"col\">xGA</th>, <th aria-label=\"Goles esperados (xG) diferencia\" class=\"poptip center\" data-filter=\"1\" data-name=\"Goles esperados (xG) diferencia\" data-over-header=\"Local\" data-stat=\"home_xg_diff\" data-tip=\"&lt;strong&gt;Goles esperados (xG) diferencia&lt;/strong&gt;&lt;br&gt;&lt;strong&gt;Diferencia de goles esperados&lt;/strong&gt;&lt;br&gt;Los totales de xG incluyen los tiros desde el punto penal, pero no incluyen las tandas de penales (a menos que se indique lo contrario).&lt;br&gt;Ofrecido por Opta.&lt;br&gt;Un subrayado indica que hay un partido que no contiene datos, pero que se actualizará cuando esté disponible.\" scope=\"col\">xGD</th>, <th aria-label=\"Goles esperados (xG) diferencia/90\" class=\"poptip hide_non_quals center\" data-over-header=\"Local\" data-stat=\"home_xg_diff_per90\" data-tip=\"&lt;strong&gt;Goles esperados (xG) diferencia/90&lt;/strong&gt;&lt;br&gt;&lt;strong&gt;Diferencia de goles esperados por 90 minutos&lt;/strong&gt;&lt;br&gt;Los totales de xG incluyen los tiros desde el punto penal, pero no incluyen las tandas de penales (a menos que se indique lo contrario).&lt;br&gt;Ofrecido por Opta.&lt;br&gt;Un subrayado indica que hay un partido que no contiene datos, pero que se actualizará cuando esté disponible.\" scope=\"col\">xGD/90</th>, <th aria-label=\"Partidos jugados\" class=\"poptip center group_start\" data-over-header=\"Visitante\" data-stat=\"away_games\" data-tip=\"&lt;strong&gt;Partidos jugados&lt;/strong&gt;&lt;br&gt;Partidos jugados por el jugador o el equipo\" scope=\"col\">PJ</th>, <th aria-label=\"Partidos Ganados\" class=\"poptip center\" data-over-header=\"Visitante\" data-stat=\"away_wins\" data-tip=\"&lt;strong&gt;Partidos Ganados&lt;/strong&gt;&lt;br&gt;Partidos Ganados\" scope=\"col\">PG</th>, <th aria-label=\"Partidos Empatados\" class=\"poptip center\" data-over-header=\"Visitante\" data-stat=\"away_ties\" data-tip=\"&lt;strong&gt;Partidos Empatados&lt;/strong&gt;&lt;br&gt;Partidos Empatados\" scope=\"col\">PE</th>, <th aria-label=\"Partidos Perdidos\" class=\"poptip center\" data-over-header=\"Visitante\" data-stat=\"away_losses\" data-tip=\"&lt;strong&gt;Partidos Perdidos&lt;/strong&gt;&lt;br&gt;Partidos Perdidos\" scope=\"col\">PP</th>, <th aria-label=\"Goles a favor\" class=\"poptip center\" data-over-header=\"Visitante\" data-stat=\"away_goals_for\" data-tip=\"&lt;strong&gt;Goles a favor&lt;/strong&gt;&lt;br&gt;Goles a favor\" scope=\"col\">GF</th>, <th aria-label=\"Goles en contra\" class=\"poptip center\" data-over-header=\"Visitante\" data-stat=\"away_goals_against\" data-tip=\"&lt;strong&gt;Goles en contra&lt;/strong&gt;&lt;br&gt;Goles en contra\" scope=\"col\">GC</th>, <th aria-label=\"Diferencia de goles\" class=\"poptip center\" data-over-header=\"Visitante\" data-stat=\"away_goal_diff\" data-tip=\"&lt;strong&gt;Diferencia de goles&lt;/strong&gt;&lt;br&gt;Diferencia de goles\" scope=\"col\">DG</th>, <th aria-label=\"Puntos\" class=\"poptip center\" data-over-header=\"Visitante\" data-stat=\"away_points\" data-tip=\"&lt;strong&gt;Puntos&lt;/strong&gt;&lt;br&gt;La mayoría de las ligas están ordenadas por puntos.&lt;br&gt;Tres para una victoria y una para un empate.\" scope=\"col\">Pts</th>, <th aria-label=\"Puntos/Partido\" class=\"poptip center\" data-over-header=\"Visitante\" data-stat=\"away_points_avg\" data-tip=\"&lt;strong&gt;Puntos/Partido&lt;/strong&gt;&lt;br&gt;Puntos por partido jugado\" scope=\"col\">Pts/PJ</th>, <th aria-label=\"xG\" class=\"poptip center\" data-filter=\"1\" data-name=\"xG\" data-over-header=\"Visitante\" data-stat=\"away_xg_for\" data-tip=\"&lt;strong&gt;Goles esperados&lt;/strong&gt;&lt;br&gt;Los totales de xG incluyen los tiros desde el punto penal, pero no incluyen las tandas de penales (a menos que se indique lo contrario).&lt;br&gt;Ofrecido por Opta.&lt;br&gt;Un subrayado indica que hay un partido que no contiene datos, pero que se actualizará cuando esté disponible.\" scope=\"col\">xG</th>, <th aria-label=\"Goles esperados (xG) permitidos\" class=\"poptip sort_default_asc center\" data-over-header=\"Visitante\" data-stat=\"away_xg_against\" data-tip=\"&lt;strong&gt;Goles esperados (xG) permitidos&lt;/strong&gt;&lt;br&gt;&lt;strong&gt;Goles esperados permitidos&lt;/strong&gt;&lt;br&gt;Los totales de xG incluyen los tiros desde el punto penal, pero no incluyen las tandas de penales (a menos que se indique lo contrario).&lt;br&gt;Ofrecido por Opta.&lt;br&gt;Un subrayado indica que hay un partido que no contiene datos, pero que se actualizará cuando esté disponible.\" scope=\"col\">xGA</th>, <th aria-label=\"Goles esperados (xG) diferencia\" class=\"poptip center\" data-filter=\"1\" data-name=\"Goles esperados (xG) diferencia\" data-over-header=\"Visitante\" data-stat=\"away_xg_diff\" data-tip=\"&lt;strong&gt;Goles esperados (xG) diferencia&lt;/strong&gt;&lt;br&gt;&lt;strong&gt;Diferencia de goles esperados&lt;/strong&gt;&lt;br&gt;Los totales de xG incluyen los tiros desde el punto penal, pero no incluyen las tandas de penales (a menos que se indique lo contrario).&lt;br&gt;Ofrecido por Opta.&lt;br&gt;Un subrayado indica que hay un partido que no contiene datos, pero que se actualizará cuando esté disponible.\" scope=\"col\">xGD</th>, <th aria-label=\"Goles esperados (xG) diferencia/90\" class=\"poptip hide_non_quals center\" data-over-header=\"Visitante\" data-stat=\"away_xg_diff_per90\" data-tip=\"&lt;strong&gt;Goles esperados (xG) diferencia/90&lt;/strong&gt;&lt;br&gt;&lt;strong&gt;Diferencia de goles esperados por 90 minutos&lt;/strong&gt;&lt;br&gt;Los totales de xG incluyen los tiros desde el punto penal, pero no incluyen las tandas de penales (a menos que se indique lo contrario).&lt;br&gt;Ofrecido por Opta.&lt;br&gt;Un subrayado indica que hay un partido que no contiene datos, pero que se actualizará cuando esté disponible.\" scope=\"col\">xGD/90</th>, <th class=\"right qualifier qualification_indicator1\" csk=\"1\" data-stat=\"rank\" scope=\"row\">1</th>, <th class=\"right qualifier qualification_indicator1\" csk=\"2\" data-stat=\"rank\" scope=\"row\">2</th>, <th class=\"right qualifier qualification_indicator1\" csk=\"3\" data-stat=\"rank\" scope=\"row\">3</th>, <th class=\"right qualifier qualification_indicator1\" csk=\"4\" data-stat=\"rank\" scope=\"row\">4</th>, <th class=\"right qualifier qualification_indicator2\" csk=\"5\" data-stat=\"rank\" scope=\"row\">5</th>, <th class=\"right qualifier qualification_indicator2\" csk=\"6\" data-stat=\"rank\" scope=\"row\">6</th>, <th class=\"right qualifier qualification_indicator3\" csk=\"7\" data-stat=\"rank\" scope=\"row\">7</th>, <th class=\"right\" csk=\"8\" data-stat=\"rank\" scope=\"row\">8</th>, <th class=\"right\" csk=\"9\" data-stat=\"rank\" scope=\"row\">9</th>, <th class=\"right\" csk=\"10\" data-stat=\"rank\" scope=\"row\">10</th>, <th class=\"right\" csk=\"11\" data-stat=\"rank\" scope=\"row\">11</th>, <th class=\"right\" csk=\"12\" data-stat=\"rank\" scope=\"row\">12</th>, <th class=\"right\" csk=\"13\" data-stat=\"rank\" scope=\"row\">13</th>, <th class=\"right\" csk=\"14\" data-stat=\"rank\" scope=\"row\">14</th>, <th class=\"right\" csk=\"15\" data-stat=\"rank\" scope=\"row\">15</th>, <th class=\"right\" csk=\"16\" data-stat=\"rank\" scope=\"row\">16</th>, <th class=\"right\" csk=\"17\" data-stat=\"rank\" scope=\"row\">17</th>, <th class=\"right relegate qualification_indicator\" csk=\"18\" data-stat=\"rank\" scope=\"row\">18</th>, <th class=\"right relegate qualification_indicator\" csk=\"19\" data-stat=\"rank\" scope=\"row\">19</th>, <th class=\"right relegate qualification_indicator\" csk=\"20\" data-stat=\"rank\" scope=\"row\">20</th>]\n"
     ]
    }
   ],
   "execution_count": 2
  },
  {
   "metadata": {
    "ExecuteTime": {
     "end_time": "2025-06-09T18:28:30.925359Z",
     "start_time": "2025-06-09T18:28:30.911020Z"
    }
   },
   "cell_type": "code",
   "source": [
    "colum_name = [i.text for i in columnas]\n",
    "colum_name = colum_name[1:16]\n",
    "print(colum_name)"
   ],
   "id": "fec6b4914d83d8a4",
   "outputs": [
    {
     "name": "stdout",
     "output_type": "stream",
     "text": [
      "['Equipo', 'PJ', 'PG', 'PE', 'PP', 'GF', 'GC', 'DG', 'Pts', 'Pts/PJ', 'xG', 'xGA', 'xGD', 'xGD/90', 'Asistencia']\n"
     ]
    }
   ],
   "execution_count": 9
  },
  {
   "metadata": {
    "ExecuteTime": {
     "end_time": "2025-06-09T18:23:03.927108Z",
     "start_time": "2025-06-09T18:22:52.449018Z"
    }
   },
   "cell_type": "code",
   "source": [
    "import pandas as pd\n",
    "df = pd.DataFrame(columns = colum_name)\n"
   ],
   "id": "ef09755acdd65e19",
   "outputs": [],
   "execution_count": 4
  },
  {
   "metadata": {
    "ExecuteTime": {
     "end_time": "2025-06-09T18:29:56.890247Z",
     "start_time": "2025-06-09T18:29:56.869517Z"
    }
   },
   "cell_type": "code",
   "source": [
    "datos_sucios = table[0].find_all('tr')\n",
    "nuevos_datos = []\n",
    "for i in datos_sucios:\n",
    "    datos = i.find_all('td')\n",
    "    if len(datos) > 0:\n",
    "        datos_limpios = [dato.text.strip() for dato in datos]\n",
    "        nuevos_datos.append(datos_limpios)\n",
    "nuevos_datos = [dato[:15] for dato in nuevos_datos]\n",
    "print(nuevos_datos)"
   ],
   "id": "36c35e456f7f8ce0",
   "outputs": [
    {
     "name": "stdout",
     "output_type": "stream",
     "text": [
      "[['Barcelona', '38', '28', '4', '6', '102', '39', '+63', '88', '2.32', '91.5', '41.9', '+49.5', '+1.30', '45,953'], ['Real Madrid', '38', '26', '6', '6', '78', '38', '+40', '84', '2.21', '75.3', '42.8', '+32.5', '+0.86', '69,807'], ['Atlético Madrid', '38', '22', '10', '6', '68', '30', '+38', '76', '2.00', '64.6', '33.4', '+31.2', '+0.82', '60,883'], ['Athletic Club', '38', '19', '13', '6', '54', '29', '+25', '70', '1.84', '53.0', '37.8', '+15.2', '+0.40', '48,420'], ['Villarreal', '38', '20', '10', '8', '71', '51', '+20', '70', '1.84', '64.8', '44.4', '+20.4', '+0.54', '18,266'], ['Betis', '38', '16', '12', '10', '57', '50', '+7', '60', '1.58', '54.7', '50.6', '+4.1', '+0.11', '51,542'], ['Celta Vigo', '38', '16', '7', '15', '59', '57', '+2', '55', '1.45', '54.2', '43.4', '+10.9', '+0.29', '21,504'], ['Rayo Vallecano', '38', '13', '13', '12', '41', '45', '-4', '52', '1.37', '45.4', '49.0', '-3.5', '-0.09', '12,908'], ['Osasuna', '38', '12', '16', '10', '48', '52', '-4', '52', '1.37', '44.0', '53.7', '-9.6', '-0.25', '20,476'], ['Mallorca', '38', '13', '9', '16', '35', '44', '-9', '48', '1.26', '38.8', '46.8', '-8.1', '-0.21', '18,502'], ['Real Sociedad', '38', '13', '7', '18', '35', '46', '-11', '46', '1.21', '42.5', '43.9', '-1.5', '-0.04', '29,877'], ['Valencia', '38', '11', '13', '14', '44', '54', '-10', '46', '1.21', '43.2', '51.9', '-8.6', '-0.23', '43,042'], ['Getafe', '38', '11', '9', '18', '34', '39', '-5', '42', '1.11', '36.8', '46.2', '-9.4', '-0.25', '11,469'], ['Espanyol', '38', '11', '9', '18', '40', '51', '-11', '42', '1.11', '34.4', '53.8', '-19.4', '-0.51', '25,640'], ['Alavés', '38', '10', '12', '16', '38', '48', '-10', '42', '1.11', '42.8', '47.0', '-4.2', '-0.11', '17,318'], ['Girona', '38', '11', '8', '19', '44', '60', '-16', '41', '1.08', '42.5', '50.4', '-8.0', '-0.21', '11,657'], ['Sevilla', '38', '10', '11', '17', '42', '55', '-13', '41', '1.08', '42.7', '47.4', '-4.7', '-0.12', '35,619'], ['Leganés', '38', '9', '13', '16', '39', '56', '-17', '40', '1.05', '36.0', '59.4', '-23.4', '-0.62', '11,135'], ['Las Palmas', '38', '8', '8', '22', '40', '61', '-21', '32', '0.84', '36.3', '66.8', '-30.5', '-0.80', '23,010'], ['Valladolid', '38', '4', '4', '30', '26', '90', '-64', '16', '0.42', '34.6', '67.6', '-33.0', '-0.87', '19,831'], ['Barcelona', '19', '14', '1', '4', '52', '20', '+32', '43', '2.26', '51.3', '16.3', '+35.0', '+1.84', '19'], ['Real Madrid', '19', '16', '1', '2', '45', '19', '+26', '49', '2.58', '46.6', '18.2', '+28.5', '+1.50', '19'], ['Atlético Madrid', '19', '14', '4', '1', '42', '15', '+27', '46', '2.42', '40.7', '14.6', '+26.2', '+1.38', '19'], ['Athletic Club', '19', '11', '6', '2', '32', '13', '+19', '39', '2.05', '31.3', '18.2', '+13.1', '+0.69', '19'], ['Villarreal', '19', '9', '7', '3', '43', '27', '+16', '34', '1.79', '36.0', '24.3', '+11.7', '+0.62', '19'], ['Betis', '19', '9', '7', '3', '32', '21', '+11', '34', '1.79', '32.3', '18.7', '+13.6', '+0.72', '19'], ['Celta Vigo', '19', '11', '3', '5', '32', '21', '+11', '36', '1.89', '27.8', '19.3', '+8.5', '+0.45', '19'], ['Rayo Vallecano', '19', '6', '8', '5', '24', '26', '-2', '26', '1.37', '25.9', '19.9', '+6.0', '+0.32', '19'], ['Osasuna', '19', '10', '6', '3', '33', '23', '+10', '36', '1.89', '25.1', '22.8', '+2.3', '+0.12', '19'], ['Mallorca', '19', '7', '6', '6', '20', '21', '-1', '27', '1.42', '19.9', '22.2', '-2.3', '-0.12', '19'], ['Real Sociedad', '19', '8', '3', '8', '20', '20', '0', '27', '1.42', '24.0', '18.7', '+5.3', '+0.28', '19'], ['Valencia', '19', '9', '4', '6', '26', '20', '+6', '31', '1.63', '24.3', '19.4', '+4.9', '+0.26', '19'], ['Getafe', '19', '4', '7', '8', '15', '19', '-4', '19', '1.00', '20.3', '19.6', '+0.7', '+0.04', '19'], ['Espanyol', '19', '8', '6', '5', '23', '20', '+3', '30', '1.58', '19.4', '22.3', '-2.9', '-0.15', '19'], ['Alavés', '19', '6', '6', '7', '14', '17', '-3', '24', '1.26', '21.1', '19.9', '+1.2', '+0.07', '19'], ['Girona', '19', '7', '3', '9', '27', '30', '-3', '24', '1.26', '25.8', '24.3', '+1.5', '+0.08', '19'], ['Sevilla', '19', '6', '6', '7', '17', '23', '-6', '24', '1.26', '22.3', '21.4', '+0.9', '+0.05', '19'], ['Leganés', '19', '7', '4', '8', '23', '27', '-4', '25', '1.32', '20.1', '27.1', '-7.0', '-0.37', '19'], ['Las Palmas', '19', '4', '5', '10', '21', '29', '-8', '17', '0.89', '21.3', '28.1', '-6.8', '-0.36', '19'], ['Valladolid', '19', '3', '4', '12', '11', '32', '-21', '13', '0.68', '18.7', '28.5', '-9.7', '-0.51', '19']]\n"
     ]
    }
   ],
   "execution_count": 12
  },
  {
   "metadata": {
    "ExecuteTime": {
     "end_time": "2025-06-09T18:30:12.286182Z",
     "start_time": "2025-06-09T18:30:12.260343Z"
    }
   },
   "cell_type": "code",
   "source": [
    "prueba = pd.DataFrame(nuevos_datos, columns = colum_name)\n",
    "print(prueba)"
   ],
   "id": "5da674b371a2199f",
   "outputs": [
    {
     "name": "stdout",
     "output_type": "stream",
     "text": [
      "             Equipo  PJ  PG  PE  PP   GF  GC   DG Pts Pts/PJ    xG   xGA  \\\n",
      "0         Barcelona  38  28   4   6  102  39  +63  88   2.32  91.5  41.9   \n",
      "1       Real Madrid  38  26   6   6   78  38  +40  84   2.21  75.3  42.8   \n",
      "2   Atlético Madrid  38  22  10   6   68  30  +38  76   2.00  64.6  33.4   \n",
      "3     Athletic Club  38  19  13   6   54  29  +25  70   1.84  53.0  37.8   \n",
      "4        Villarreal  38  20  10   8   71  51  +20  70   1.84  64.8  44.4   \n",
      "5             Betis  38  16  12  10   57  50   +7  60   1.58  54.7  50.6   \n",
      "6        Celta Vigo  38  16   7  15   59  57   +2  55   1.45  54.2  43.4   \n",
      "7    Rayo Vallecano  38  13  13  12   41  45   -4  52   1.37  45.4  49.0   \n",
      "8           Osasuna  38  12  16  10   48  52   -4  52   1.37  44.0  53.7   \n",
      "9          Mallorca  38  13   9  16   35  44   -9  48   1.26  38.8  46.8   \n",
      "10    Real Sociedad  38  13   7  18   35  46  -11  46   1.21  42.5  43.9   \n",
      "11         Valencia  38  11  13  14   44  54  -10  46   1.21  43.2  51.9   \n",
      "12           Getafe  38  11   9  18   34  39   -5  42   1.11  36.8  46.2   \n",
      "13         Espanyol  38  11   9  18   40  51  -11  42   1.11  34.4  53.8   \n",
      "14           Alavés  38  10  12  16   38  48  -10  42   1.11  42.8  47.0   \n",
      "15           Girona  38  11   8  19   44  60  -16  41   1.08  42.5  50.4   \n",
      "16          Sevilla  38  10  11  17   42  55  -13  41   1.08  42.7  47.4   \n",
      "17          Leganés  38   9  13  16   39  56  -17  40   1.05  36.0  59.4   \n",
      "18       Las Palmas  38   8   8  22   40  61  -21  32   0.84  36.3  66.8   \n",
      "19       Valladolid  38   4   4  30   26  90  -64  16   0.42  34.6  67.6   \n",
      "20        Barcelona  19  14   1   4   52  20  +32  43   2.26  51.3  16.3   \n",
      "21      Real Madrid  19  16   1   2   45  19  +26  49   2.58  46.6  18.2   \n",
      "22  Atlético Madrid  19  14   4   1   42  15  +27  46   2.42  40.7  14.6   \n",
      "23    Athletic Club  19  11   6   2   32  13  +19  39   2.05  31.3  18.2   \n",
      "24       Villarreal  19   9   7   3   43  27  +16  34   1.79  36.0  24.3   \n",
      "25            Betis  19   9   7   3   32  21  +11  34   1.79  32.3  18.7   \n",
      "26       Celta Vigo  19  11   3   5   32  21  +11  36   1.89  27.8  19.3   \n",
      "27   Rayo Vallecano  19   6   8   5   24  26   -2  26   1.37  25.9  19.9   \n",
      "28          Osasuna  19  10   6   3   33  23  +10  36   1.89  25.1  22.8   \n",
      "29         Mallorca  19   7   6   6   20  21   -1  27   1.42  19.9  22.2   \n",
      "30    Real Sociedad  19   8   3   8   20  20    0  27   1.42  24.0  18.7   \n",
      "31         Valencia  19   9   4   6   26  20   +6  31   1.63  24.3  19.4   \n",
      "32           Getafe  19   4   7   8   15  19   -4  19   1.00  20.3  19.6   \n",
      "33         Espanyol  19   8   6   5   23  20   +3  30   1.58  19.4  22.3   \n",
      "34           Alavés  19   6   6   7   14  17   -3  24   1.26  21.1  19.9   \n",
      "35           Girona  19   7   3   9   27  30   -3  24   1.26  25.8  24.3   \n",
      "36          Sevilla  19   6   6   7   17  23   -6  24   1.26  22.3  21.4   \n",
      "37          Leganés  19   7   4   8   23  27   -4  25   1.32  20.1  27.1   \n",
      "38       Las Palmas  19   4   5  10   21  29   -8  17   0.89  21.3  28.1   \n",
      "39       Valladolid  19   3   4  12   11  32  -21  13   0.68  18.7  28.5   \n",
      "\n",
      "      xGD xGD/90 Asistencia  \n",
      "0   +49.5  +1.30     45,953  \n",
      "1   +32.5  +0.86     69,807  \n",
      "2   +31.2  +0.82     60,883  \n",
      "3   +15.2  +0.40     48,420  \n",
      "4   +20.4  +0.54     18,266  \n",
      "5    +4.1  +0.11     51,542  \n",
      "6   +10.9  +0.29     21,504  \n",
      "7    -3.5  -0.09     12,908  \n",
      "8    -9.6  -0.25     20,476  \n",
      "9    -8.1  -0.21     18,502  \n",
      "10   -1.5  -0.04     29,877  \n",
      "11   -8.6  -0.23     43,042  \n",
      "12   -9.4  -0.25     11,469  \n",
      "13  -19.4  -0.51     25,640  \n",
      "14   -4.2  -0.11     17,318  \n",
      "15   -8.0  -0.21     11,657  \n",
      "16   -4.7  -0.12     35,619  \n",
      "17  -23.4  -0.62     11,135  \n",
      "18  -30.5  -0.80     23,010  \n",
      "19  -33.0  -0.87     19,831  \n",
      "20  +35.0  +1.84         19  \n",
      "21  +28.5  +1.50         19  \n",
      "22  +26.2  +1.38         19  \n",
      "23  +13.1  +0.69         19  \n",
      "24  +11.7  +0.62         19  \n",
      "25  +13.6  +0.72         19  \n",
      "26   +8.5  +0.45         19  \n",
      "27   +6.0  +0.32         19  \n",
      "28   +2.3  +0.12         19  \n",
      "29   -2.3  -0.12         19  \n",
      "30   +5.3  +0.28         19  \n",
      "31   +4.9  +0.26         19  \n",
      "32   +0.7  +0.04         19  \n",
      "33   -2.9  -0.15         19  \n",
      "34   +1.2  +0.07         19  \n",
      "35   +1.5  +0.08         19  \n",
      "36   +0.9  +0.05         19  \n",
      "37   -7.0  -0.37         19  \n",
      "38   -6.8  -0.36         19  \n",
      "39   -9.7  -0.51         19  \n"
     ]
    }
   ],
   "execution_count": 14
  },
  {
   "metadata": {
    "ExecuteTime": {
     "end_time": "2025-06-09T18:35:32.727097Z",
     "start_time": "2025-06-09T18:35:32.678993Z"
    }
   },
   "cell_type": "code",
   "source": "prueba.to_csv(r'C:\\Users\\galle\\Desktop\\fbref_laliga_2024.csv', index = False)",
   "id": "6274ae275d06a54d",
   "outputs": [],
   "execution_count": 15
  }
 ],
 "metadata": {
  "kernelspec": {
   "display_name": "Python 3",
   "language": "python",
   "name": "python3"
  },
  "language_info": {
   "codemirror_mode": {
    "name": "ipython",
    "version": 2
   },
   "file_extension": ".py",
   "mimetype": "text/x-python",
   "name": "python",
   "nbconvert_exporter": "python",
   "pygments_lexer": "ipython2",
   "version": "2.7.6"
  }
 },
 "nbformat": 4,
 "nbformat_minor": 5
}
